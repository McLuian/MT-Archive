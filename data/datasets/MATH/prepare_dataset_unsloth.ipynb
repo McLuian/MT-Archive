{
 "cells": [
  {
   "cell_type": "code",
   "execution_count": 13,
   "metadata": {},
   "outputs": [],
   "source": [
    "import os\n",
    "import json\n",
    "import pandas as pd\n",
    "\n",
    "problems = []\n",
    "solutions = []\n",
    "\n",
    "subsets = [\"algebra\", \"counting_and_probability\", \"geometry\", \"intermediate_algebra\", \"number_theory\", \"prealgebra\", \"precalculus\"]\n",
    "\n",
    "cantidad = 30\n",
    "\n",
    "for subset in subsets:\n",
    "    folder_path = \"./\" + subset\n",
    "    file_list = os.listdir(folder_path)[:cantidad]\n",
    "    \n",
    "    for file_name in file_list:\n",
    "        file_path = os.path.join(folder_path, file_name)\n",
    "        \n",
    "        with open(file_path) as file:\n",
    "            data = json.load(file)\n",
    "            problem = list(data.values())[0]\n",
    "            solution = list(data.values())[3] \n",
    "\n",
    "            problems.append(problem)\n",
    "            solutions.append(solution)\n",
    "\n",
    "system_message = \"Solve the following problem:\"\n",
    "\n",
    "# Crear un DataFrame:\n",
    "df = pd.DataFrame({\n",
    "    \"problem\": problems,\n",
    "    \"solution\": solutions\n",
    "})\n",
    "\n",
    "# f.to_csv('training_examples.csv', index = False)\n",
    "\n",
    "training_examples = []\n",
    "\n",
    "for index, row in df.iterrows():\n",
    "    training_example = {\n",
    "        \"intruction\": system_message,\n",
    "        \"input\": row[\"problem\"],\n",
    "        \"output\": row[\"solution\"]\n",
    "    }\n",
    "    training_examples.append(training_example)\n",
    "\n",
    "# Guardar ejemplos de entrenamiento en un archivo JSONL:\n",
    "with open(\"training_examples.json\", \"w\") as f:\n",
    "    f.write(\"[\" + \"\\n\")\n",
    "    for example in training_examples:\n",
    "        f.write(json.dumps(example) + \",\" + \"\\n\")\n",
    "    f.write(\"]\" + \"\\n\")"
   ]
  }
 ],
 "metadata": {
  "kernelspec": {
   "display_name": "test03_01",
   "language": "python",
   "name": "python3"
  },
  "language_info": {
   "codemirror_mode": {
    "name": "ipython",
    "version": 3
   },
   "file_extension": ".py",
   "mimetype": "text/x-python",
   "name": "python",
   "nbconvert_exporter": "python",
   "pygments_lexer": "ipython3",
   "version": "3.8.19"
  }
 },
 "nbformat": 4,
 "nbformat_minor": 2
}
