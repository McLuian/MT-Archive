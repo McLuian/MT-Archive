{
 "cells": [
  {
   "cell_type": "code",
   "execution_count": 3,
   "metadata": {},
   "outputs": [],
   "source": [
    "import json\n",
    "\n",
    "# Leer el archivo jsonl y convertirlo en una lista de diccionarios:\n",
    "with open('../train/train.jsonl', 'r') as json_file:\n",
    "    data = [json.loads(line) for line in json_file]\n",
    "\n",
    "instruction = 'I need you to solve the following math problem, step by step:\\n'\n",
    "\n",
    "# Formatear las preguntas y respuestas y escribirlas en un nuevo archivo jsonl:\n",
    "with open('../gsm8k-sharegpt-style/gsm8k-train-sharegpt-style.json', 'w') as json_file:\n",
    "    for item in data:\n",
    "        formatted_item = '[ { \"from\": \"human\", \"value\": \"' + instruction + item[\"question\"] + '\" }, { \"from\": \"gpt\", \"value\": \"' + item[\"answer\"] + '\" } ]'\n",
    "        json_file.write('{\\n' + '\"conversation\": ' + json.dumps(formatted_item) + '\\n},\\n')\n"
   ]
  },
  {
   "cell_type": "code",
   "execution_count": 13,
   "metadata": {},
   "outputs": [],
   "source": [
    "import pandas as pd\n",
    "\n",
    "# Ruta del archivo JSONL\n",
    "jsonl_file = 'gsm8k-train-50.jsonl'\n",
    "\n",
    "# Leer el archivo JSONL y convertirlo a un DataFrame de pandas\n",
    "df = pd.read_json(jsonl_file, lines=True)\n",
    "\n",
    "# Guardar el DataFrame en un archivo CSV\n",
    "csv_file = 'gsm8k-train-50.csv'\n",
    "df.to_csv(csv_file, index=False)"
   ]
  },
  {
   "cell_type": "code",
   "execution_count": 14,
   "metadata": {},
   "outputs": [],
   "source": [
    "# Read the CSV file\n",
    "import csv\n",
    "import json\n",
    "\n",
    "instruction = 'Solve step by step the following math problem:\\n'\n",
    "\n",
    "def csv_to_json(csv_file_path, json_file_path):\n",
    "    conversations_list = []\n",
    "    with open(csv_file_path, mode='r', encoding='utf-8-sig') as csv_file:\n",
    "        csv_reader = csv.reader(csv_file)\n",
    "        next(csv_reader)  # Skip the header row\n",
    "\n",
    "        for row in csv_reader:\n",
    "            question = row[0].replace(\"Question: \", \"\").strip()\n",
    "            answer = row[1].replace(\"Answer: \", \"\").strip()\n",
    "            conversation = {\n",
    "                \"conversations\": [\n",
    "                    {\"from\": \"human\", \"value\": instruction + question},\n",
    "                    {\"from\": \"gpt\", \"value\": answer}\n",
    "                ]\n",
    "            }\n",
    "            conversations_list.append(conversation)\n",
    "\n",
    "    # Write the JSON file\n",
    "    with open(json_file_path, mode='w', encoding='utf-8') as json_file:\n",
    "        json.dump(conversations_list, json_file, indent=2, ensure_ascii=False)"
   ]
  },
  {
   "cell_type": "code",
   "execution_count": 15,
   "metadata": {},
   "outputs": [],
   "source": [
    "csv_file_path = 'gsm8k-train-50.csv'\n",
    "json_file_path = 'gsm8k-train-sharegpt-style-50.json'\n",
    "csv_to_json(csv_file_path, json_file_path)"
   ]
  }
 ],
 "metadata": {
  "kernelspec": {
   "display_name": "base",
   "language": "python",
   "name": "python3"
  },
  "language_info": {
   "codemirror_mode": {
    "name": "ipython",
    "version": 3
   },
   "file_extension": ".py",
   "mimetype": "text/x-python",
   "name": "python",
   "nbconvert_exporter": "python",
   "pygments_lexer": "ipython3",
   "version": "3.11.5"
  }
 },
 "nbformat": 4,
 "nbformat_minor": 2
}
